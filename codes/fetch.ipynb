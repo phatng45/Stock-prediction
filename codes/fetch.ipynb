{
 "cells": [
  {
   "cell_type": "code",
   "execution_count": 1,
   "metadata": {},
   "outputs": [],
   "source": [
    "import dash\n",
    "import dash_core_components as dcc\n",
    "import dash_html_components as html\n",
    "from dash.dependencies import Output, Input\n",
    "import ccxt\n",
    "import pandas as pd\n",
    "import plotly.graph_objs as go\n",
    "\n",
    "import webbrowser"
   ]
  },
  {
   "cell_type": "code",
   "execution_count": 2,
   "metadata": {},
   "outputs": [],
   "source": [
    "# Set up Binance API\n",
    "binance = ccxt.binance()\n",
    "symbol = 'BTC/USDT'"
   ]
  },
  {
   "cell_type": "code",
   "execution_count": 3,
   "metadata": {},
   "outputs": [
    {
     "name": "stdout",
     "output_type": "stream",
     "text": [
      "importing Jupyter notebook from predictor.ipynb\n"
     ]
    }
   ],
   "source": [
    "import import_ipynb\n",
    "from predictor import XGBoostPredictor, RNNPredictor, LSTMPredictor\n",
    "\n",
    "import numpy as np\n",
    "\n",
    "rnn = RNNPredictor('../models/rnn_model.h5')\n",
    "lstm = LSTMPredictor('../models/lstm_model.h5')\n",
    "xgb = XGBoostPredictor('../models/xgboost_model.json')\n",
    "\n",
    "def predict(inputs, model_name, n_to_predict):\n",
    "\n",
    "    if model_name == 'RNN':\n",
    "        model = rnn\n",
    "    elif model_name == 'LSTM':\n",
    "        model = lstm\n",
    "    elif model_name == 'XGBoost':\n",
    "        model = xgb\n",
    "    \n",
    "    return model.predict(inputs, n_to_predict)"
   ]
  },
  {
   "cell_type": "code",
   "execution_count": 4,
   "metadata": {},
   "outputs": [],
   "source": [
    "# Initialize Dash app\n",
    "app = dash.Dash(__name__)\n",
    "\n",
    "app.layout = html.Div([\n",
    "    dcc.Dropdown(id='model-name',options=[\n",
    "                    {'label': 'LSTM', 'value': 'LSTM'},\n",
    "                    {'label': 'RNN', 'value': 'RNN'},\n",
    "                    {'label': 'XGBoost', 'value': 'XGBoost'},\n",
    "                     ],\n",
    "                    value='XGBoost'\n",
    "                 ),\n",
    "    dcc.Graph(id='live-graph'), \n",
    "    html.Div(id='remaining-time'),\n",
    "    dcc.Interval(   \n",
    "        id='interval-component',\n",
    "        interval=15 * 1000,  # in milliseconds\n",
    "        n_intervals=0\n",
    "    ),\n",
    "])"
   ]
  },
  {
   "cell_type": "code",
   "execution_count": 5,
   "metadata": {},
   "outputs": [],
   "source": [
    "@app.callback([Output('live-graph', 'figure'), Output('remaining-time', 'children')],\n",
    "              [Input('interval-component', 'n_intervals'), Input('model-name', 'value')])\n",
    "def update_graph(n, model_name):\n",
    "    ohlcv = binance.fetch_ohlcv(symbol, '1h', limit=1000)\n",
    "    df = pd.DataFrame(ohlcv, columns=['timestamp', 'open', 'high', 'low', 'close', 'volume'])\n",
    "    df['timestamp'] = pd.to_datetime(df['timestamp'], unit='ms')\n",
    "    \n",
    "    input_data = df[['timestamp','close']]\n",
    "\n",
    "    n_to_predict = 100\n",
    "\n",
    "    predictions = predict(input_data[['timestamp', 'close']], model_name, n_to_predict)\n",
    "    predictions = list(np.concatenate(predictions))\n",
    "\n",
    "    trace = go.Candlestick(\n",
    "        x=df['timestamp'],\n",
    "        open=df['open'],\n",
    "        high=df['high'],\n",
    "        low=df['low'],\n",
    "        close=df['close'],\n",
    "        name=symbol\n",
    "    )\n",
    "    \n",
    "    trace_predictions = go.Scatter(\n",
    "        x=df['timestamp'].iloc[-n_to_predict:],\n",
    "        y=predictions,\n",
    "        mode='lines',\n",
    "        name='Predicted Close Prices',\n",
    "        line=dict(color='orange')\n",
    "    )\n",
    "    \n",
    "    layout = go.Layout(\n",
    "        title=f'Live OHLCV Chart - {symbol}',\n",
    "        xaxis=dict(title='Time'),\n",
    "        yaxis=dict(title='Price'),\n",
    "        showlegend=True,\n",
    "        height=700\n",
    "    )\n",
    "    \n",
    "    remaining_time = 10 - (n % 10)  # Calculate remaining seconds\n",
    "    \n",
    "    return {'data': [trace, trace_predictions], 'layout': layout}, f'input: {model_name}'\n"
   ]
  },
  {
   "cell_type": "markdown",
   "metadata": {},
   "source": [
    "# Start the app."
   ]
  },
  {
   "cell_type": "code",
   "execution_count": 6,
   "metadata": {},
   "outputs": [
    {
     "name": "stdout",
     "output_type": "stream",
     "text": [
      "Dash is running on http://127.0.0.1:8050/\n",
      "\n",
      " * Serving Flask app '__main__'\n",
      " * Debug mode: off\n"
     ]
    },
    {
     "name": "stderr",
     "output_type": "stream",
     "text": [
      "WARNING: This is a development server. Do not use it in a production deployment. Use a production WSGI server instead.\n",
      " * Running on http://127.0.0.1:8050\n",
      "Press CTRL+C to quit\n",
      "127.0.0.1 - - [13/Aug/2023 21:03:56] \"GET / HTTP/1.1\" 200 -\n",
      "127.0.0.1 - - [13/Aug/2023 21:03:56] \"GET /_dash-layout HTTP/1.1\" 200 -\n",
      "127.0.0.1 - - [13/Aug/2023 21:03:56] \"GET /_dash-dependencies HTTP/1.1\" 200 -\n",
      "127.0.0.1 - - [13/Aug/2023 21:04:00] \"POST /_dash-update-component HTTP/1.1\" 200 -\n",
      "127.0.0.1 - - [13/Aug/2023 21:04:04] \"POST /_dash-update-component HTTP/1.1\" 200 -\n",
      "127.0.0.1 - - [13/Aug/2023 21:04:05] \"POST /_dash-update-component HTTP/1.1\" 200 -\n"
     ]
    },
    {
     "name": "stdout",
     "output_type": "stream",
     "text": [
      "WARNING:tensorflow:Model was constructed with shape (None, 10, 1) for input Tensor(\"simple_rnn_input:0\", shape=(None, 10, 1), dtype=float32), but it was called on an input with incompatible shape (None, 60, 1).\n"
     ]
    },
    {
     "name": "stderr",
     "output_type": "stream",
     "text": [
      "127.0.0.1 - - [13/Aug/2023 21:04:07] \"POST /_dash-update-component HTTP/1.1\" 200 -\n",
      "127.0.0.1 - - [13/Aug/2023 21:04:09] \"POST /_dash-update-component HTTP/1.1\" 200 -\n",
      "127.0.0.1 - - [13/Aug/2023 21:04:11] \"POST /_dash-update-component HTTP/1.1\" 200 -\n",
      "127.0.0.1 - - [13/Aug/2023 21:04:11] \"POST /_dash-update-component HTTP/1.1\" 200 -\n",
      "127.0.0.1 - - [13/Aug/2023 21:04:12] \"POST /_dash-update-component HTTP/1.1\" 200 -\n",
      "127.0.0.1 - - [13/Aug/2023 21:04:13] \"POST /_dash-update-component HTTP/1.1\" 200 -\n"
     ]
    }
   ],
   "source": [
    "if __name__ == '__main__':\n",
    "    webbrowser.open('http://127.0.0.1:8050/', new=0, autoraise=True)\n",
    "    app.run_server(debug=False)"
   ]
  }
 ],
 "metadata": {
  "kernelspec": {
   "display_name": "base",
   "language": "python",
   "name": "python3"
  },
  "language_info": {
   "codemirror_mode": {
    "name": "ipython",
    "version": 3
   },
   "file_extension": ".py",
   "mimetype": "text/x-python",
   "name": "python",
   "nbconvert_exporter": "python",
   "pygments_lexer": "ipython3",
   "version": "3.8.8"
  },
  "orig_nbformat": 4
 },
 "nbformat": 4,
 "nbformat_minor": 2
}
