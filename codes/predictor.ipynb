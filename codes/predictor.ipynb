{
 "cells": [
  {
   "cell_type": "code",
   "execution_count": 10,
   "metadata": {},
   "outputs": [],
   "source": [
    "import numpy as np\n",
    "from abc import ABC, abstractmethod"
   ]
  },
  {
   "cell_type": "code",
   "execution_count": 11,
   "metadata": {},
   "outputs": [],
   "source": [
    "class Predictor(ABC):\n",
    "    def __init__(self, model_filename):\n",
    "        self.model_filename = model_filename\n",
    "        self.model = None\n",
    "        self.scaler = MinMaxScaler()\n",
    "        self.model = self.loadModel()\n",
    "\n",
    "    @abstractmethod\n",
    "    def loadModel(self):\n",
    "        pass\n",
    "\n",
    "    @abstractmethod\n",
    "    def predict(self, input: np.array) -> np.array:\n",
    "        pass"
   ]
  },
  {
   "cell_type": "code",
   "execution_count": 12,
   "metadata": {},
   "outputs": [],
   "source": [
    "import joblib\n",
    "\n",
    "class XGBoostPredictor(Predictor):\n",
    "    def loadModel(self):    \n",
    "        return joblib.load(self.model_filename)\n",
    "    \n",
    "    def predict(self, input: np.array) -> np.array:\n",
    "        return self.model.predict(input)"
   ]
  },
  {
   "cell_type": "code",
   "execution_count": 14,
   "metadata": {},
   "outputs": [],
   "source": [
    "from tensorflow.keras.models import load_model\n",
    "\n",
    "class RNNPredictor(Predictor):\n",
    "    def loadModel(self):    \n",
    "        return load_model(self.model_filename)\n",
    "    \n",
    "    def predict(self, input: np.array) -> np.array:\n",
    "        return self.model.predict(input)    "
   ]
  }
 ],
 "metadata": {
  "kernelspec": {
   "display_name": "base",
   "language": "python",
   "name": "python3"
  },
  "language_info": {
   "codemirror_mode": {
    "name": "ipython",
    "version": 3
   },
   "file_extension": ".py",
   "mimetype": "text/x-python",
   "name": "python",
   "nbconvert_exporter": "python",
   "pygments_lexer": "ipython3",
   "version": "3.8.8"
  },
  "orig_nbformat": 4
 },
 "nbformat": 4,
 "nbformat_minor": 2
}
