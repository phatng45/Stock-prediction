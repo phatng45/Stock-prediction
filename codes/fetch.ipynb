{
 "cells": [
  {
   "cell_type": "code",
   "execution_count": null,
   "metadata": {},
   "outputs": [],
   "source": [
    "import dash\n",
    "import dash_core_components as dcc\n",
    "import dash_html_components as html\n",
    "from dash.dependencies import Output, Input\n",
    "import ccxt\n",
    "import pandas as pd\n",
    "import plotly.graph_objs as go\n",
    "\n",
    "import webbrowser"
   ]
  },
  {
   "cell_type": "code",
   "execution_count": null,
   "metadata": {},
   "outputs": [],
   "source": [
    "# Set up Binance API\n",
    "binance = ccxt.binance()\n",
    "symbol = 'BTC/USDT'"
   ]
  },
  {
   "cell_type": "code",
   "execution_count": null,
   "metadata": {},
   "outputs": [],
   "source": [
    "import import_ipynb\n",
    "from predictor import XGBoostPredictor, RNNPredictor, LSTMPredictor\n",
    "# model = XGBoostPredictor('../models/xgboost_model.pkl')\n",
    "# model = RNNPredictor('../models/rnn_model.h5')\n",
    "\n",
    "from sklearn.preprocessing import MinMaxScaler\n",
    "scaler=MinMaxScaler(feature_range=(0,1))\n",
    "\n",
    "import numpy as np\n",
    "\n",
    "def predict(new_data, model_name):\n",
    "    if model_name == 'RNN':\n",
    "        model = RNNPredictor('../models/rnn_model.h5')  \n",
    "    elif model_name == 'LSTM':\n",
    "        model = LSTMPredictor('../models/lstm_model.h5')\n",
    "    elif model_name == 'XGBoost':\n",
    "        model = XGBoostPredictor('../models/xgboost_model.pkl')\n",
    "    \n",
    "    new_data.drop(\"timestamp\",axis=1,inplace=True)\n",
    "    scaler.fit_transform(new_data.values)\n",
    "    \n",
    "    inputs=new_data[len(new_data)-100:].values\n",
    "    inputs=inputs.reshape(-1,1)\n",
    "    inputs=scaler.transform(inputs)\n",
    "\n",
    "    X_test=np.array(inputs)\n",
    "\n",
    "    X_test=np.reshape(X_test,(X_test.shape[0],X_test.shape[1],1))\n",
    "    closing_price=model.predict(X_test)\n",
    "    closing_price=scaler.inverse_transform(closing_price)\n",
    "\n",
    "    return closing_price"
   ]
  },
  {
   "cell_type": "code",
   "execution_count": null,
   "metadata": {},
   "outputs": [],
   "source": [
    "# Initialize Dash app\n",
    "app = dash.Dash(__name__)\n",
    "\n",
    "app.layout = html.Div([\n",
    "    dcc.Dropdown(id='model-name',options=[\n",
    "                    {'label': 'LSTM', 'value': 'LSTM'},\n",
    "                    {'label': 'RNN', 'value': 'RNN'},\n",
    "                    {'label': 'XGBoost', 'value': 'XGBoost'},\n",
    "                     ],\n",
    "                    value='LSTM'\n",
    "                 ),\n",
    "    dcc.Graph(id='live-graph'), \n",
    "    html.Div(id='remaining-time'),\n",
    "    dcc.Interval(   \n",
    "        id='interval-component',\n",
    "        interval=15 * 1000,  # in milliseconds\n",
    "        n_intervals=0\n",
    "    ),\n",
    "])"
   ]
  },
  {
   "cell_type": "code",
   "execution_count": null,
   "metadata": {},
   "outputs": [],
   "source": [
    "@app.callback([Output('live-graph', 'figure'), Output('remaining-time', 'children')],\n",
    "              [Input('interval-component', 'n_intervals'), Input('model-name', 'value')])\n",
    "def update_graph(n, model_name):\n",
    "    ohlcv = binance.fetch_ohlcv(symbol, '1h', limit=1000)\n",
    "    df = pd.DataFrame(ohlcv, columns=['timestamp', 'open', 'high', 'low', 'close', 'volume'])\n",
    "    df['timestamp'] = pd.to_datetime(df['timestamp'], unit='ms')\n",
    "    \n",
    "    input_data =  df[['timestamp','close']]\n",
    "\n",
    "    predictions = predict(input_data[['timestamp', 'close']], model_name)\n",
    "    predictions = list(np.concatenate(predictions))\n",
    "\n",
    "    trace = go.Candlestick(\n",
    "        x=df['timestamp'],\n",
    "        open=df['open'],\n",
    "        high=df['high'],\n",
    "        low=df['low'],\n",
    "        close=df['close'],\n",
    "        name=symbol\n",
    "    )\n",
    "    \n",
    "    trace_predictions = go.Scatter(\n",
    "        x=df['timestamp'].iloc[-100:],\n",
    "        y=predictions,\n",
    "        mode='lines',\n",
    "        name='Predicted Close Prices',\n",
    "        line=dict(color='orange')\n",
    "    )\n",
    "    \n",
    "    layout = go.Layout(\n",
    "        title=f'Live OHLCV Chart - {symbol}',\n",
    "        xaxis=dict(title='Time'),\n",
    "        yaxis=dict(title='Price'),\n",
    "        showlegend=True,\n",
    "        height=700\n",
    "    )\n",
    "    \n",
    "    remaining_time = 10 - (n % 10)  # Calculate remaining seconds\n",
    "    \n",
    "    return {'data': [trace, trace_predictions], 'layout': layout}, f'model: {model.model_filename}, input: {model_name}'\n"
   ]
  },
  {
   "cell_type": "markdown",
   "metadata": {},
   "source": [
    "# Start the app."
   ]
  },
  {
   "cell_type": "code",
   "execution_count": null,
   "metadata": {},
   "outputs": [],
   "source": [
    "if __name__ == '__main__':\n",
    "    webbrowser.open('http://127.0.0.1:8050/', new=0, autoraise=True)\n",
    "    app.run_server(debug=False)"
   ]
  }
 ],
 "metadata": {
  "kernelspec": {
   "display_name": "base",
   "language": "python",
   "name": "python3"
  },
  "language_info": {
   "codemirror_mode": {
    "name": "ipython",
    "version": 3
   },
   "file_extension": ".py",
   "mimetype": "text/x-python",
   "name": "python",
   "nbconvert_exporter": "python",
   "pygments_lexer": "ipython3",
   "version": "3.8.8"
  },
  "orig_nbformat": 4
 },
 "nbformat": 4,
 "nbformat_minor": 2
}
