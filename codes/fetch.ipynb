{
 "cells": [
  {
   "cell_type": "code",
   "execution_count": 1,
   "metadata": {},
   "outputs": [],
   "source": [
    "import ccxt\n",
    "\n",
    "# Set up Binance API\n",
    "binance = ccxt.binance()\n",
    "symbol = \"BTC/USDT\"\n"
   ]
  },
  {
   "cell_type": "code",
   "execution_count": 2,
   "metadata": {},
   "outputs": [
    {
     "name": "stdout",
     "output_type": "stream",
     "text": [
      "importing Jupyter notebook from predictor.ipynb\n"
     ]
    }
   ],
   "source": [
    "import import_ipynb\n",
    "from predictor import XGBoostPredictor, RNNPredictor, LSTMPredictor\n",
    "\n",
    "import numpy as np\n"
   ]
  },
  {
   "cell_type": "code",
   "execution_count": 3,
   "metadata": {},
   "outputs": [],
   "source": [
    "rnn = RNNPredictor(\"../models/rnn_model.h5\")\n",
    "lstm = LSTMPredictor(\"../models/lstm_model.h5\")\n",
    "xgb = XGBoostPredictor(\"../models/xgboost_model.json\")\n",
    "\n",
    "\n",
    "def predict(inputs, model_name, n_to_predict):\n",
    "    if model_name == \"RNN\":\n",
    "        model = rnn\n",
    "    elif model_name == \"LSTM\":\n",
    "        model = lstm\n",
    "    elif model_name == \"XGBoost\":\n",
    "        model = xgb\n",
    "\n",
    "    return model.predict(inputs, n_to_predict)\n"
   ]
  },
  {
   "cell_type": "code",
   "execution_count": 4,
   "metadata": {},
   "outputs": [
    {
     "name": "stderr",
     "output_type": "stream",
     "text": [
      "C:\\Users\\Admin\\AppData\\Local\\Temp\\ipykernel_7644\\3635243919.py:2: UserWarning: \n",
      "The dash_core_components package is deprecated. Please replace\n",
      "`import dash_core_components as dcc` with `from dash import dcc`\n",
      "  import dash_core_components as dcc\n",
      "C:\\Users\\Admin\\AppData\\Local\\Temp\\ipykernel_7644\\3635243919.py:3: UserWarning: \n",
      "The dash_html_components package is deprecated. Please replace\n",
      "`import dash_html_components as html` with `from dash import html`\n",
      "  import dash_html_components as html\n"
     ]
    }
   ],
   "source": [
    "import dash\n",
    "import dash_core_components as dcc\n",
    "import dash_html_components as html\n",
    "from dash.dependencies import Output, Input, State\n",
    "\n",
    "import plotly.graph_objs as go\n",
    "\n",
    "import dash_bootstrap_components as dbc\n"
   ]
  },
  {
   "cell_type": "code",
   "execution_count": 5,
   "metadata": {},
   "outputs": [],
   "source": [
    "dbc_css = \"https://cdn.jsdelivr.net/gh/AnnMarieW/dash-bootstrap-templates/dbc.min.css\"\n",
    "app = dash.Dash(__name__, external_stylesheets=[dbc.themes.BOOTSTRAP, dbc_css])\n",
    "\n",
    "app.layout = html.Div(\n",
    "    [\n",
    "        html.H4(\n",
    "            \"BTC-USDT Analysis Dashboard\",\n",
    "            className=\"bg-primary text-white p-2 mb-2 text-center\",\n",
    "        ),\n",
    "        dbc.Card(\n",
    "            [\n",
    "                html.Div(\n",
    "                    [\n",
    "                        dbc.Row(\n",
    "                            [\n",
    "                                dbc.Col(dbc.Label(\"Model\"), width=2),\n",
    "                                dbc.Col(\n",
    "                                    html.Div(\n",
    "                                        [\n",
    "                                            dbc.RadioItems(\n",
    "                                                id=\"model-name\",\n",
    "                                                className=\"btn-group\",\n",
    "                                                inputClassName=\"btn-check\",\n",
    "                                                labelClassName=\"btn btn-outline-primary\",\n",
    "                                                labelCheckedClassName=\"active\",\n",
    "                                                options=[\"LSTM\", \"RNN\", \"XGBoost\"],\n",
    "                                                value=\"LSTM\",\n",
    "                                            ),\n",
    "                                        ],\n",
    "                                        className=\"radio-group\",\n",
    "                                    ),\n",
    "                                    width=\"auto\",\n",
    "                                ),\n",
    "                            ]\n",
    "                        ),\n",
    "                        dbc.Row(\n",
    "                            [\n",
    "                                dbc.Col(dbc.Label(\"Features extraction\"), width=2),\n",
    "                                dbc.Col(\n",
    "                                    dcc.Dropdown(\n",
    "                                        id=\"features\",\n",
    "                                        options=[\n",
    "                                            \"Close\",\n",
    "                                            \"Price of Change\",\n",
    "                                            # \"RSI\",\n",
    "                                            # \"Bolling Bands\",\n",
    "                                            # \"Moving Average\",\n",
    "                                        ],\n",
    "                                        value=\"Close\",\n",
    "                                        multi=True,\n",
    "                                    ),\n",
    "                                    width=7,\n",
    "                                ),\n",
    "                            ]\n",
    "                        ),\n",
    "                    ]\n",
    "                ),\n",
    "            ],\n",
    "            body=True,\n",
    "            style={\n",
    "                \"margin\": \"2rem 1rem 0rem\",\n",
    "            },\n",
    "        ),\n",
    "        dbc.Card(\n",
    "            dbc.Tabs([dbc.Tab([dcc.Graph(id=\"live-graph\")], label=\"Chart\")]),\n",
    "            style={\n",
    "                \"margin\": \"2rem 1rem 0rem\",\n",
    "            },\n",
    "        ),\n",
    "        html.Div(id=\"remaining-time\"),\n",
    "        dcc.Interval(\n",
    "            id=\"interval-component\",\n",
    "            interval=15 * 1000,  # in milliseconds\n",
    "            n_intervals=0,\n",
    "        ),\n",
    "    ]\n",
    ")\n"
   ]
  },
  {
   "cell_type": "code",
   "execution_count": 6,
   "metadata": {},
   "outputs": [],
   "source": [
    "import pandas as pd\n",
    "\n",
    "\n",
    "@app.callback(\n",
    "    [Output(\"live-graph\", \"figure\"), Output(\"remaining-time\", \"children\")],\n",
    "    [Input(\"interval-component\", \"n_intervals\"), Input(\"model-name\", \"value\")],\n",
    ")\n",
    "def update_graph(n, model_name):\n",
    "    ohlcv = binance.fetch_ohlcv(symbol, \"1m\", limit=1000)\n",
    "    df = pd.DataFrame(\n",
    "        ohlcv, columns=[\"timestamp\", \"open\", \"high\", \"low\", \"close\", \"volume\"]\n",
    "    )\n",
    "    df[\"timestamp\"] = pd.to_datetime(df[\"timestamp\"], unit=\"ms\")\n",
    "\n",
    "    input_data = df[[\"timestamp\", \"close\"]]\n",
    "\n",
    "    n_to_predict = 100\n",
    "\n",
    "    predictions = predict(input_data[[\"timestamp\", \"close\"]], model_name, n_to_predict)\n",
    "    predictions = list(np.concatenate(predictions))\n",
    "\n",
    "    trace = go.Candlestick(\n",
    "        x=df[\"timestamp\"],\n",
    "        open=df[\"open\"],\n",
    "        high=df[\"high\"],\n",
    "        low=df[\"low\"],\n",
    "        close=df[\"close\"],\n",
    "        name=symbol,\n",
    "    )\n",
    "\n",
    "    latest_timestamp = df[\"timestamp\"].max()\n",
    "    new_timestamp = latest_timestamp + pd.Timedelta(minutes=1)\n",
    "    df = df.append({\"timestamp\": new_timestamp}, ignore_index=True)\n",
    "\n",
    "    trace_predictions = go.Scatter(\n",
    "        x=df[\"timestamp\"].iloc[-n_to_predict:],\n",
    "        y=predictions,\n",
    "        mode=\"lines\",\n",
    "        name=\"Predicted Close\",\n",
    "        line=dict(color=\"orange\"),\n",
    "    )\n",
    "\n",
    "    rangeselector = {\n",
    "        \"buttons\": list(\n",
    "            [\n",
    "                dict(count=1, label=\"1m\", step=\"minute\", stepmode=\"backward\"),\n",
    "                dict(count=2, label=\"2m\", step=\"minute\", stepmode=\"backward\"),\n",
    "                dict(count=5, label=\"5m\", step=\"minute\", stepmode=\"backward\"),\n",
    "                dict(count=1, label=\"1h\", step=\"hour\", stepmode=\"backward\"),\n",
    "                dict(count=2, label=\"2h\", step=\"hour\", stepmode=\"backward\"),\n",
    "                dict(count=5, label=\"5h\", step=\"hour\", stepmode=\"backward\"),\n",
    "                dict(step=\"all\")\n",
    "            ]\n",
    "        )\n",
    "    }\n",
    "\n",
    "    layout = go.Layout(\n",
    "        title=f\"Live OHLCV Chart - {symbol}\",\n",
    "        xaxis=dict(\n",
    "            title=\"Time\",\n",
    "            rangeselector=rangeselector,\n",
    "        ),\n",
    "        yaxis=dict(title=\"Price\"),\n",
    "        showlegend=True,\n",
    "        height=700,\n",
    "        legend=dict(orientation=\"h\", yanchor=\"bottom\", y=1.02, xanchor=\"right\", x=1),\n",
    "    )\n",
    "\n",
    "    return {\n",
    "        \"data\": [trace, trace_predictions],\n",
    "        \"layout\": layout,\n",
    "    }, f\"input: {model_name}\"\n"
   ]
  },
  {
   "cell_type": "markdown",
   "metadata": {},
   "source": [
    "# Start the app."
   ]
  },
  {
   "cell_type": "code",
   "execution_count": 7,
   "metadata": {},
   "outputs": [
    {
     "data": {
      "text/html": [
       "\n",
       "        <iframe\n",
       "            width=\"100%\"\n",
       "            height=\"650\"\n",
       "            src=\"http://127.0.0.1:8050/\"\n",
       "            frameborder=\"0\"\n",
       "            allowfullscreen\n",
       "            \n",
       "        ></iframe>\n",
       "        "
      ],
      "text/plain": [
       "<IPython.lib.display.IFrame at 0x1dda77780d0>"
      ]
     },
     "metadata": {},
     "output_type": "display_data"
    }
   ],
   "source": [
    "import webbrowser\n",
    "\n",
    "if __name__ == \"__main__\":\n",
    "    # webbrowser.open('http://127.0.0.1:8050/', new=0, autoraise=True)\n",
    "    app.run_server(debug=False)\n"
   ]
  }
 ],
 "metadata": {
  "kernelspec": {
   "display_name": "base",
   "language": "python",
   "name": "python3"
  },
  "language_info": {
   "codemirror_mode": {
    "name": "ipython",
    "version": 3
   },
   "file_extension": ".py",
   "mimetype": "text/x-python",
   "name": "python",
   "nbconvert_exporter": "python",
   "pygments_lexer": "ipython3",
   "version": "3.8.8"
  },
  "orig_nbformat": 4
 },
 "nbformat": 4,
 "nbformat_minor": 2
}
