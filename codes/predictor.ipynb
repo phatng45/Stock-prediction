{
 "cells": [
  {
   "cell_type": "code",
   "execution_count": 6,
   "metadata": {},
   "outputs": [],
   "source": [
    "import numpy as np\n",
    "from abc import ABC, abstractmethod"
   ]
  },
  {
   "cell_type": "code",
   "execution_count": 7,
   "metadata": {},
   "outputs": [],
   "source": [
    "class Predictor(ABC):\n",
    "    def __init__(self, model_filename):\n",
    "        self.model_filename = model_filename\n",
    "        self.model = None\n",
    "        self.model = self.loadModel()\n",
    "\n",
    "    @abstractmethod\n",
    "    def loadModel(self):\n",
    "        pass\n",
    "\n",
    "    @abstractmethod\n",
    "    def predict(self, inputs, n_to_predict):\n",
    "        pass"
   ]
  },
  {
   "cell_type": "code",
   "execution_count": 8,
   "metadata": {},
   "outputs": [],
   "source": [
    "class XGBoostPredictor(Predictor):\n",
    "    def loadModel(self):\n",
    "        \n",
    "        import xgboost as xgb\n",
    "\n",
    "        model = xgb.Booster()\n",
    "        model.load_model(self.model_filename)\n",
    "        return model\n",
    "    \n",
    "    def predict(self, inputs, n_to_predict):\n",
    "\n",
    "        import xgboost as xgb\n",
    "        \n",
    "        from sklearn.preprocessing import MinMaxScaler\n",
    "        scaler=MinMaxScaler(feature_range=(0,1))\n",
    "        \n",
    "        inputs.drop(\"timestamp\",axis=1,inplace=True)\n",
    "        scaler.fit_transform(inputs.values)\n",
    "        \n",
    "        inputs=inputs[len(inputs)-n_to_predict:].values\n",
    "        inputs=inputs.reshape(-1,1)\n",
    "        inputs=scaler.transform(inputs)\n",
    "\n",
    "        d_test = xgb.DMatrix(inputs)\n",
    "        closing_price=self.model.predict(d_test)\n",
    "        closing_price=closing_price.reshape(-1, 1)\n",
    "        closing_price=scaler.inverse_transform(closing_price)\n",
    "        \n",
    "        return closing_price"
   ]
  },
  {
   "cell_type": "code",
   "execution_count": 9,
   "metadata": {},
   "outputs": [],
   "source": [
    "from tensorflow.keras.models import load_model\n",
    "\n",
    "class RNNPredictor(Predictor):\n",
    "    def loadModel(self):\n",
    "        return load_model(self.model_filename)\n",
    "    \n",
    "    def predict(self, inputs, n_to_predict):\n",
    "        inputs.index=inputs.timestamp\n",
    "        inputs.drop(\"timestamp\",axis=1,inplace=True)\n",
    "        \n",
    "        from sklearn.preprocessing import MinMaxScaler\n",
    "        scaler=MinMaxScaler(feature_range=(0,1))\n",
    "        scaled_inputs = scaler.fit_transform(inputs.values)\n",
    "        \n",
    "        scaled_inputs=scaled_inputs[len(inputs)-n_to_predict:]\n",
    "        scaled_inputs=scaled_inputs.reshape(-1,1)\n",
    "\n",
    "        X_test=np.array(scaled_inputs)\n",
    "\n",
    "        X_test=np.reshape(X_test,(X_test.shape[0],X_test.shape[1],1))\n",
    "        closing_price=self.model.predict(X_test)\n",
    "        closing_price=scaler.inverse_transform(closing_price)\n",
    "        \n",
    "        return closing_price"
   ]
  },
  {
   "cell_type": "code",
   "execution_count": 10,
   "metadata": {},
   "outputs": [],
   "source": [
    "class LSTMPredictor(Predictor):\n",
    "    def loadModel(self):    \n",
    "        return load_model(self.model_filename)\n",
    "    \n",
    "    def predict(self, inputs, n_to_predict):\n",
    "        \n",
    "        from sklearn.preprocessing import MinMaxScaler\n",
    "        scaler=MinMaxScaler(feature_range=(0,1))\n",
    "        \n",
    "        inputs.drop(\"timestamp\",axis=1,inplace=True)\n",
    "        scaler.fit_transform(inputs.values)\n",
    "        \n",
    "        inputs=inputs[len(inputs)-n_to_predict:].values\n",
    "        inputs=inputs.reshape(-1,1)\n",
    "        inputs=scaler.transform(inputs)\n",
    "\n",
    "        X_test=np.array(inputs)\n",
    "\n",
    "        X_test=np.reshape(X_test,(X_test.shape[0],X_test.shape[1],1))\n",
    "        closing_price=self.model.predict(X_test)\n",
    "        closing_price=scaler.inverse_transform(closing_price)\n",
    "        \n",
    "        return closing_price"
   ]
  }
 ],
 "metadata": {
  "kernelspec": {
   "display_name": "base",
   "language": "python",
   "name": "python3"
  },
  "language_info": {
   "codemirror_mode": {
    "name": "ipython",
    "version": 3
   },
   "file_extension": ".py",
   "mimetype": "text/x-python",
   "name": "python",
   "nbconvert_exporter": "python",
   "pygments_lexer": "ipython3",
   "version": "3.8.8"
  },
  "orig_nbformat": 4
 },
 "nbformat": 4,
 "nbformat_minor": 2
}
