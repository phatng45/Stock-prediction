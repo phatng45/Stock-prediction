{
 "cells": [
  {
   "cell_type": "code",
   "execution_count": 1,
   "metadata": {},
   "outputs": [],
   "source": [
    "import ccxt\n",
    "\n",
    "# Set up Binance API\n",
    "binance = ccxt.binance()\n",
    "symbol = 'BTC/USDT'"
   ]
  },
  {
   "cell_type": "code",
   "execution_count": 2,
   "metadata": {},
   "outputs": [
    {
     "name": "stdout",
     "output_type": "stream",
     "text": [
      "importing Jupyter notebook from predictor.ipynb\n"
     ]
    }
   ],
   "source": [
    "import import_ipynb\n",
    "from predictor import XGBoostPredictor, RNNPredictor, LSTMPredictor\n",
    "\n",
    "import numpy as np"
   ]
  },
  {
   "cell_type": "code",
   "execution_count": 3,
   "metadata": {},
   "outputs": [],
   "source": [
    "rnn = RNNPredictor('../models/rnn_model.h5')\n",
    "lstm = LSTMPredictor('../models/lstm_model.h5')\n",
    "xgb = XGBoostPredictor('../models/xgboost_model.json')\n",
    "\n",
    "def predict(inputs, model_name, n_to_predict):\n",
    "\n",
    "    if model_name == 'RNN':\n",
    "        model = rnn\n",
    "    elif model_name == 'LSTM':\n",
    "        model = lstm\n",
    "    elif model_name == 'XGBoost':\n",
    "        model = xgb\n",
    "    \n",
    "    return model.predict(inputs, n_to_predict)"
   ]
  },
  {
   "cell_type": "code",
   "execution_count": 4,
   "metadata": {},
   "outputs": [
    {
     "name": "stderr",
     "output_type": "stream",
     "text": [
      "C:\\Users\\Admin\\AppData\\Local\\Temp\\ipykernel_4212\\4184564591.py:2: UserWarning: \n",
      "The dash_core_components package is deprecated. Please replace\n",
      "`import dash_core_components as dcc` with `from dash import dcc`\n",
      "  import dash_core_components as dcc\n",
      "C:\\Users\\Admin\\AppData\\Local\\Temp\\ipykernel_4212\\4184564591.py:3: UserWarning: \n",
      "The dash_html_components package is deprecated. Please replace\n",
      "`import dash_html_components as html` with `from dash import html`\n",
      "  import dash_html_components as html\n"
     ]
    }
   ],
   "source": [
    "import dash\n",
    "import dash_core_components as dcc\n",
    "import dash_html_components as html\n",
    "from dash.dependencies import Output, Input\n",
    "\n",
    "import plotly.graph_objs as go\n",
    "\n",
    "import dash_bootstrap_components as dbc"
   ]
  },
  {
   "cell_type": "code",
   "execution_count": 5,
   "metadata": {},
   "outputs": [],
   "source": [
    "app = dash.Dash(__name__, external_stylesheets=[dbc.themes.BOOTSTRAP])\n",
    "\n",
    "app.layout = html.Div([\n",
    "    dcc.Dropdown(id='model-name',options=[\n",
    "                    {'label': 'LSTM', 'value': 'LSTM'},\n",
    "                    {'label': 'RNN', 'value': 'RNN'},\n",
    "                    {'label': 'XGBoost', 'value': 'XGBoost'},\n",
    "                     ],\n",
    "                    value='XGBoost'\n",
    "                 ),\n",
    "    dcc.Graph(id='live-graph'), \n",
    "    html.Div(id='remaining-time'),\n",
    "    dcc.Interval(   \n",
    "        id='interval-component',\n",
    "        interval=15 * 1000,  # in milliseconds\n",
    "        n_intervals=0\n",
    "    ),\n",
    "])"
   ]
  },
  {
   "cell_type": "code",
   "execution_count": 6,
   "metadata": {},
   "outputs": [],
   "source": [
    "import pandas as pd\n",
    "\n",
    "@app.callback([Output('live-graph', 'figure'), Output('remaining-time', 'children')],\n",
    "              [Input('interval-component', 'n_intervals'), Input('model-name', 'value')])\n",
    "def update_graph(n, model_name):\n",
    "    ohlcv = binance.fetch_ohlcv(symbol, '1h', limit=1000)\n",
    "    df = pd.DataFrame(ohlcv, columns=['timestamp', 'open', 'high', 'low', 'close', 'volume'])\n",
    "    df['timestamp'] = pd.to_datetime(df['timestamp'], unit='ms')\n",
    "    \n",
    "    input_data = df[['timestamp','close']]\n",
    "\n",
    "    n_to_predict = 100\n",
    "\n",
    "    predictions = predict(input_data[['timestamp', 'close']], model_name, n_to_predict)\n",
    "    predictions = list(np.concatenate(predictions))\n",
    "\n",
    "    trace = go.Candlestick(\n",
    "        x=df['timestamp'],\n",
    "        open=df['open'],\n",
    "        high=df['high'],\n",
    "        low=df['low'],\n",
    "        close=df['close'],\n",
    "        name=symbol\n",
    "    )\n",
    "    \n",
    "    trace_predictions = go.Scatter(\n",
    "        x=df['timestamp'].iloc[-n_to_predict:],\n",
    "        y=predictions,\n",
    "        mode='lines',\n",
    "        name='Predicted Close',\n",
    "        line=dict(color='orange'),  \n",
    "    )\n",
    "    \n",
    "    layout = go.Layout(\n",
    "        title=f'Live OHLCV Chart - {symbol}',\n",
    "        xaxis=dict(title='Time'),\n",
    "        yaxis=dict(title='Price'),\n",
    "        showlegend=True,\n",
    "        height=700\n",
    "    )\n",
    "    \n",
    "    remaining_time = 10 - (n % 10)  # Calculate remaining seconds\n",
    "    \n",
    "    return {'data': [trace, trace_predictions], 'layout': layout}, f'input: {model_name}'\n"
   ]
  },
  {
   "cell_type": "markdown",
   "metadata": {},
   "source": [
    "# Start the app."
   ]
  },
  {
   "cell_type": "code",
   "execution_count": 7,
   "metadata": {},
   "outputs": [
    {
     "data": {
      "text/html": [
       "\n",
       "        <iframe\n",
       "            width=\"100%\"\n",
       "            height=\"650\"\n",
       "            src=\"http://127.0.0.1:8050/\"\n",
       "            frameborder=\"0\"\n",
       "            allowfullscreen\n",
       "            \n",
       "        ></iframe>\n",
       "        "
      ],
      "text/plain": [
       "<IPython.lib.display.IFrame at 0x234a7771af0>"
      ]
     },
     "metadata": {},
     "output_type": "display_data"
    },
    {
     "name": "stdout",
     "output_type": "stream",
     "text": [
      "WARNING:tensorflow:Model was constructed with shape (None, 10, 1) for input Tensor(\"simple_rnn_input:0\", shape=(None, 10, 1), dtype=float32), but it was called on an input with incompatible shape (None, 60, 1).\n"
     ]
    }
   ],
   "source": [
    "import webbrowser\n",
    "\n",
    "if __name__ == '__main__':\n",
    "    # webbrowser.open('http://127.0.0.1:8050/', new=0, autoraise=True)\n",
    "    app.run_server(debug=False)"
   ]
  }
 ],
 "metadata": {
  "kernelspec": {
   "display_name": "base",
   "language": "python",
   "name": "python3"
  },
  "language_info": {
   "codemirror_mode": {
    "name": "ipython",
    "version": 3
   },
   "file_extension": ".py",
   "mimetype": "text/x-python",
   "name": "python",
   "nbconvert_exporter": "python",
   "pygments_lexer": "ipython3",
   "version": "3.8.8"
  },
  "orig_nbformat": 4
 },
 "nbformat": 4,
 "nbformat_minor": 2
}
