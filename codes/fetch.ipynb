{
 "cells": [
  {
   "cell_type": "code",
   "execution_count": 1,
   "metadata": {},
   "outputs": [],
   "source": [
    "import dash\n",
    "import dash_core_components as dcc\n",
    "import dash_html_components as html\n",
    "from dash.dependencies import Output, Input\n",
    "import ccxt\n",
    "import pandas as pd\n",
    "import plotly.graph_objs as go\n",
    "\n",
    "import webbrowser"
   ]
  },
  {
   "cell_type": "code",
   "execution_count": 2,
   "metadata": {},
   "outputs": [],
   "source": [
    "# Set up Binance API\n",
    "binance = ccxt.binance()\n",
    "symbol = 'BTC/USDT'"
   ]
  },
  {
   "cell_type": "code",
   "execution_count": 3,
   "metadata": {},
   "outputs": [
    {
     "name": "stdout",
     "output_type": "stream",
     "text": [
      "Dash is running on http://127.0.0.1:8050/\n",
      "\n",
      " * Serving Flask app '__main__'\n",
      " * Debug mode: off\n"
     ]
    },
    {
     "name": "stderr",
     "output_type": "stream",
     "text": [
      "WARNING: This is a development server. Do not use it in a production deployment. Use a production WSGI server instead.\n",
      " * Running on http://127.0.0.1:8050\n",
      "Press CTRL+C to quit\n",
      "127.0.0.1 - - [09/Aug/2023 00:00:22] \"GET / HTTP/1.1\" 200 -\n",
      "127.0.0.1 - - [09/Aug/2023 00:00:23] \"GET /_dash-layout HTTP/1.1\" 200 -\n",
      "127.0.0.1 - - [09/Aug/2023 00:00:23] \"GET /_dash-dependencies HTTP/1.1\" 200 -\n",
      "127.0.0.1 - - [09/Aug/2023 00:00:25] \"POST /_dash-update-component HTTP/1.1\" 200 -\n",
      "127.0.0.1 - - [09/Aug/2023 00:00:28] \"POST /_dash-update-component HTTP/1.1\" 200 -\n"
     ]
    }
   ],
   "source": [
    "# Initialize Dash app\n",
    "app = dash.Dash(__name__)\n",
    "\n",
    "app.layout = html.Div([\n",
    "    dcc.Dropdown(id='models',options=[\n",
    "                    {'label': 'LSTM', 'value': 'LSTM'},\n",
    "                    {'label': 'RNN', 'value': 'RNN'},\n",
    "                    {'label': 'XGBoost', 'value': 'XGBoost'},\n",
    "                     ],\n",
    "                    value='LSTM'\n",
    "                 ),\n",
    "    dcc.Graph(id='live-graph'), \n",
    "    # html.Div(id='remaining-time'),\n",
    "    dcc.Interval(   \n",
    "        id='interval-component',\n",
    "        interval=5 * 1000,  # in milliseconds\n",
    "        n_intervals=0\n",
    "    )\n",
    "])\n",
    "\n",
    "@app.callback([Output('live-graph', 'figure'), Output('remaining-time', 'children')],\n",
    "              Input('interval-component', 'n_intervals'))\n",
    "def update_graph(n):\n",
    "    ohlcv = binance.fetch_ohlcv(symbol, '1h', limit=1000)\n",
    "    df = pd.DataFrame(ohlcv, columns=['timestamp', 'open', 'high', 'low', 'close', 'volume'])\n",
    "    df['timestamp'] = pd.to_datetime(df['timestamp'], unit='ms')\n",
    "    \n",
    "    trace = go.Candlestick(\n",
    "        x=df['timestamp'],\n",
    "        open=df['open'],\n",
    "        high=df['high'],\n",
    "        low=df['low'],\n",
    "        close=df['close'],\n",
    "        name=symbol\n",
    "    )\n",
    "    \n",
    "    layout = go.Layout(\n",
    "        title=f'Live OHLCV Chart - {symbol}',\n",
    "        xaxis=dict(title='Time'),\n",
    "        yaxis=dict(title='Price'),\n",
    "        showlegend=True\n",
    "    )\n",
    "    \n",
    "    remaining_time = 10 - (n % 10)  # Calculate remaining seconds\n",
    "    \n",
    "    return {'data': [trace], 'layout': layout}, f'Remaining Time until Next Fetch: {remaining_time} seconds'\n",
    "\n",
    "if __name__ == '__main__':\n",
    "    webbrowser.open('http://127.0.0.1:8050/', new=0, autoraise=True)\n",
    "    app.run_server(debug=False)"
   ]
  }
 ],
 "metadata": {
  "kernelspec": {
   "display_name": "base",
   "language": "python",
   "name": "python3"
  },
  "language_info": {
   "codemirror_mode": {
    "name": "ipython",
    "version": 3
   },
   "file_extension": ".py",
   "mimetype": "text/x-python",
   "name": "python",
   "nbconvert_exporter": "python",
   "pygments_lexer": "ipython3",
   "version": "3.8.8"
  },
  "orig_nbformat": 4
 },
 "nbformat": 4,
 "nbformat_minor": 2
}
